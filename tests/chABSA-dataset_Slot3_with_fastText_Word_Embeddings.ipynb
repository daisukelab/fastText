{
 "cells": [
  {
   "cell_type": "markdown",
   "metadata": {},
   "source": [
    "# fastText chABSA dataset slot 3 evaluation with word embeddings\n",
    "\n",
    "Cross validated.\n",
    "\n",
    "## Polarity classification\n",
    "\n",
    "    F1 is 0.77924"
   ]
  },
  {
   "cell_type": "code",
   "execution_count": null,
   "metadata": {},
   "outputs": [],
   "source": [
    "! git clone https://github.com/daisukelab/dl-cliche.git\n",
    "! cd dl-cliche && pip install .\n",
    "! rm -fr dl-cliche"
   ]
  },
  {
   "cell_type": "code",
   "execution_count": null,
   "metadata": {},
   "outputs": [],
   "source": [
    "# Download dataset & stop_words_ja.txt\n",
    "! wget https://s3-ap-northeast-1.amazonaws.com/dev.tech-sketch.jp/chakki/public/chABSA-dataset.zip\n",
    "! unzip -q chABSA-dataset.zip && rm chABSA-dataset.zip && rm -r __MACOSX\n",
    "! ls chABSA-dataset\n",
    "! cd chABSA-dataset && wget https://raw.githubusercontent.com/chakki-works/chABSA-dataset/master/notebooks/resource/stop_words_ja.txt"
   ]
  },
  {
   "cell_type": "code",
   "execution_count": 1,
   "metadata": {},
   "outputs": [],
   "source": [
    "from dlcliche.utils import *\n",
    "from dlcliche.nlp_mecab import *"
   ]
  },
  {
   "cell_type": "code",
   "execution_count": 2,
   "metadata": {},
   "outputs": [
    {
     "name": "stdout",
     "output_type": "stream",
     "text": [
      "230 files ready.\n",
      "310 stop words ready.\n"
     ]
    }
   ],
   "source": [
    "DATA = Path('chABSA-dataset')\n",
    "\n",
    "def check_data_existence(folder):\n",
    "    file_count = len(list(folder.glob(\"e*_ann.json\")))\n",
    "    if  file_count == 0:\n",
    "        raise Exception(\"Processed Data does not exist.\")\n",
    "    else:\n",
    "        print(\"{} files ready.\".format(file_count))\n",
    "\n",
    "check_data_existence(DATA)\n",
    "\n",
    "stop_words = []\n",
    "with (DATA/\"stop_words_ja.txt\").open(encoding=\"utf-8\") as f:\n",
    "    stop_words = f.readlines()\n",
    "    stop_words = [w.strip() for w in stop_words]\n",
    "\n",
    "print(\"{} stop words ready.\".format(len(stop_words)))"
   ]
  },
  {
   "cell_type": "code",
   "execution_count": 3,
   "metadata": {},
   "outputs": [
    {
     "name": "stdout",
     "output_type": "stream",
     "text": [
      "['market#general', 'company#general', 'company#sales', 'company#profit', 'company#amount', 'company#price', 'company#cost', 'business#general', 'business#sales', 'business#profit', 'business#amount', 'business#price', 'business#cost', 'product#general', 'product#sales', 'product#profit', 'product#amount', 'product#price', 'product#cost']\n"
     ]
    }
   ],
   "source": [
    "label_kinds = []\n",
    "\n",
    "# make labels (exclude NULL and OOD)\n",
    "for e in [\"market\", \"company\", \"business\", \"product\"]:\n",
    "    for a in [\"general\", \"sales\", \"profit\", \"amount\", \"price\", \"cost\"]:\n",
    "        label_kinds.append(e + \"#\" + a)\n",
    "        if e in [\"market\"]:\n",
    "            break;\n",
    "\n",
    "print(label_kinds)"
   ]
  },
  {
   "cell_type": "code",
   "execution_count": 6,
   "metadata": {},
   "outputs": [],
   "source": [
    "import json\n",
    "import numpy as np\n",
    "import pandas as pd\n",
    "from collections import Counter\n",
    "\n",
    "sentences = []\n",
    "dataset = []\n",
    "labels = []   \n",
    "tokenizer = get_mecab_tokenizer(stop_words=stop_words, normalize=False)\n",
    "\n",
    "for f in DATA.glob(\"e*_ann.json\"):\n",
    "    with f.open(encoding=\"utf-8\") as j:\n",
    "        d = json.load(j)\n",
    "        for s in d[\"sentences\"]:\n",
    "            tokenized = tokenizer.tokenize(s[\"sentence\"].lower())\n",
    "            for o in s[\"opinions\"]:\n",
    "                if o[\"category\"] in label_kinds:\n",
    "                    # sentence index + category\n",
    "                    dataset.append((len(sentences), o[\"category\"]))\n",
    "                    labels.append(o[\"polarity\"])\n",
    "            sentences.append(tokenized)"
   ]
  },
  {
   "cell_type": "code",
   "execution_count": 7,
   "metadata": {},
   "outputs": [
    {
     "name": "stdout",
     "output_type": "stream",
     "text": [
      "['この', 'な', '状況', 'における', '、', '当社', 'グループ', 'の', '売上', 'は', '、', '国内', 'について', 'は', '、', 'しょうゆ', '、', '飲料', 'が', '堅調', 'に', '推移', 'し', '、', '食品', '、', '酒類', 'が', '前期', 'を', '下回っ', 'た', 'ものの', '、', '全体', 'として', 'ほぼ', '前期', '並み', 'と', 'なり', 'た']\n",
      "category is product#general, polarity is positive\n"
     ]
    }
   ],
   "source": [
    "print(sentences[dataset[0][0]])\n",
    "print(\"category is {}, polarity is {}\".format(dataset[0][1], labels[0]))"
   ]
  },
  {
   "cell_type": "code",
   "execution_count": 8,
   "metadata": {},
   "outputs": [
    {
     "name": "stdout",
     "output_type": "stream",
     "text": [
      "2646 data is available.\n"
     ]
    }
   ],
   "source": [
    "if len(sentences) != len(labels) != len(dataset):\n",
    "    raise Exception(\"sentence and label count does not match!\")\n",
    "\n",
    "print(\"{} data is available.\".format(len(labels)))"
   ]
  },
  {
   "cell_type": "markdown",
   "metadata": {},
   "source": [
    "## fastText model for getting word embeddings\n",
    "\n",
    "Text embedding is calculated as mean of BOW."
   ]
  },
  {
   "cell_type": "code",
   "execution_count": 9,
   "metadata": {
    "scrolled": true
   },
   "outputs": [],
   "source": [
    "import gensim\n",
    "\n",
    "PATH = Path('/mnt/dataset/nlp/wikipedia')\n",
    "ftmodel = gensim.models.KeyedVectors.load_word2vec_format(str(PATH/'all_asis_ja.vec'), binary=False)\n",
    "\n",
    "vec_sz = 300\n",
    "\n",
    "def get_text_embeddings(model, tokens):\n",
    "    def _vector(w):\n",
    "        return model[w] if w in model.wv.vocab else np.zeros_like(ftmodel[ftmodel.wv.index2word[1000]])\n",
    "    return np.array([_vector(w) for w in tokens]).mean(axis=0)"
   ]
  },
  {
   "cell_type": "code",
   "execution_count": 10,
   "metadata": {},
   "outputs": [
    {
     "name": "stdout",
     "output_type": "stream",
     "text": [
      "With all 212379 words, 210509 are unknown. Only 1870 are valid vectors...\n"
     ]
    }
   ],
   "source": [
    "num_words = np.sum([len(s) for s in sentences])\n",
    "num_unk   = int(np.sum([np.sum([w in ftmodel.wv.vocab for w in s]) for s in sentences]))\n",
    "print(f'With all {num_words} words, {num_unk} are unknown. Only {num_words-num_unk} are valid vectors...')"
   ]
  },
  {
   "cell_type": "code",
   "execution_count": 11,
   "metadata": {},
   "outputs": [],
   "source": [
    "from sklearn.base import BaseEstimator, TransformerMixin\n",
    "from sklearn.svm import LinearSVC\n",
    "from sklearn.multiclass import OneVsRestClassifier\n",
    "from sklearn.pipeline import Pipeline\n",
    "\n",
    "class SentenceToLMVec(BaseEstimator, TransformerMixin):\n",
    "    \n",
    "    def __init__(self, corpus, label_kinds, vector_len=1000):\n",
    "        self.corpus = corpus\n",
    "        self.vocab = []\n",
    "        self.label_kinds = label_kinds\n",
    "        self.vector_len = vector_len\n",
    "    \n",
    "    def fit(self, X, y=None):\n",
    "        # do nothing\n",
    "        return self\n",
    "\n",
    "    def _vectorize(self, words_and_index):\n",
    "        words = words_and_index[0]\n",
    "        index = words_and_index[1]\n",
    "        vector = get_text_embeddings(ftmodel, words)\n",
    "        return np.hstack([vector, [index/len(self.label_kinds)]])\n",
    "\n",
    "    def transform(self, X, copy=True):\n",
    "        expand = lambda _x: (self.corpus[int(_x[0])], self.label_kinds.index(str(_x[1])))\n",
    "        _X =  np.apply_along_axis(expand, 1, X)\n",
    "        tX = np.zeros((_X.shape[0], vec_sz + 1))\n",
    "        for i in range(_X.shape[0]):\n",
    "            tX[i] = self._vectorize(_X[i])\n",
    "        return tX\n",
    "\n",
    "model = Pipeline([(\"vectorize\", SentenceToLMVec(sentences, label_kinds)), (\"clf\", OneVsRestClassifier(LinearSVC(random_state=0)))])"
   ]
  },
  {
   "cell_type": "code",
   "execution_count": 12,
   "metadata": {
    "scrolled": false
   },
   "outputs": [
    {
     "name": "stdout",
     "output_type": "stream",
     "text": [
      "['2' 'product#general']\n",
      "[learning_curve] Training set sizes: [ 211  687 1163 1639 2116]\n"
     ]
    },
    {
     "name": "stderr",
     "output_type": "stream",
     "text": [
      "[Parallel(n_jobs=1)]: Using backend SequentialBackend with 1 concurrent workers.\n"
     ]
    },
    {
     "name": "stdout",
     "output_type": "stream",
     "text": [
      "[CV]  ................................................................\n",
      "[CV] ....................... , score=0.7169811320754716, total=   0.2s\n"
     ]
    },
    {
     "name": "stderr",
     "output_type": "stream",
     "text": [
      "[Parallel(n_jobs=1)]: Done   1 out of   1 | elapsed:    0.5s remaining:    0.0s\n"
     ]
    },
    {
     "name": "stdout",
     "output_type": "stream",
     "text": [
      "[CV]  ................................................................\n",
      "[CV] ....................... , score=0.7716981132075472, total=   0.3s\n"
     ]
    },
    {
     "name": "stderr",
     "output_type": "stream",
     "text": [
      "[Parallel(n_jobs=1)]: Done   2 out of   2 | elapsed:    1.2s remaining:    0.0s\n"
     ]
    },
    {
     "name": "stdout",
     "output_type": "stream",
     "text": [
      "[CV]  ................................................................\n",
      "[CV] ....................... , score=0.7660377358490567, total=   0.4s\n"
     ]
    },
    {
     "name": "stderr",
     "output_type": "stream",
     "text": [
      "[Parallel(n_jobs=1)]: Done   3 out of   3 | elapsed:    2.1s remaining:    0.0s\n"
     ]
    },
    {
     "name": "stdout",
     "output_type": "stream",
     "text": [
      "[CV]  ................................................................\n",
      "[CV] ....................... , score=0.7773584905660378, total=   0.6s\n",
      "[CV]  ................................................................\n",
      "[CV] ....................... , score=0.7754716981132076, total=   0.7s\n",
      "[CV]  ................................................................\n",
      "[CV] ....................... , score=0.7471698113207547, total=   0.1s\n",
      "[CV]  ................................................................\n",
      "[CV] ........................ , score=0.769811320754717, total=   0.3s\n",
      "[CV]  ................................................................\n",
      "[CV] ....................... , score=0.7641509433962265, total=   0.4s\n",
      "[CV]  ................................................................\n",
      "[CV] ....................... , score=0.7566037735849057, total=   0.5s\n",
      "[CV]  ................................................................\n",
      "[CV] ....................... , score=0.7509433962264151, total=   0.7s\n",
      "[CV]  ................................................................\n",
      "[CV] ....................... , score=0.7283018867924528, total=   0.1s\n",
      "[CV]  ................................................................\n",
      "[CV] ....................... , score=0.7679245283018868, total=   0.3s\n",
      "[CV]  ................................................................\n",
      "[CV] ....................... , score=0.7867924528301887, total=   0.4s\n",
      "[CV]  ................................................................\n",
      "[CV] ....................... , score=0.7924528301886793, total=   0.5s\n",
      "[CV]  ................................................................\n",
      "[CV] ........................ , score=0.779245283018868, total=   0.7s\n",
      "[CV]  ................................................................\n",
      "[CV] ....................... , score=0.7283018867924528, total=   0.1s\n",
      "[CV]  ................................................................\n",
      "[CV] ....................... , score=0.7716981132075472, total=   0.3s\n",
      "[CV]  ................................................................\n",
      "[CV] ....................... , score=0.7830188679245284, total=   0.4s\n",
      "[CV]  ................................................................\n",
      "[CV] ....................... , score=0.7943396226415095, total=   0.5s\n",
      "[CV]  ................................................................\n",
      "[CV] ....................... , score=0.7830188679245284, total=   0.7s\n",
      "[CV]  ................................................................\n",
      "[CV] ....................... , score=0.7188679245283018, total=   0.1s\n",
      "[CV]  ................................................................\n",
      "[CV] ....................... , score=0.7811320754716982, total=   0.3s\n",
      "[CV]  ................................................................\n",
      "[CV] ....................... , score=0.7849056603773585, total=   0.4s\n",
      "[CV]  ................................................................\n",
      "[CV] ....................... , score=0.7943396226415095, total=   0.6s\n",
      "[CV]  ................................................................\n",
      "[CV] ....................... , score=0.8056603773584906, total=   0.7s\n"
     ]
    },
    {
     "name": "stderr",
     "output_type": "stream",
     "text": [
      "[Parallel(n_jobs=1)]: Done  25 out of  25 | elapsed:   22.0s finished\n"
     ]
    },
    {
     "data": {
      "image/png": "[encoded data removed]",
      "text/plain": [
       "<Figure size 432x288 with 1 Axes>"
      ]
     },
     "metadata": {},
     "output_type": "display_data"
    }
   ],
   "source": [
    "from sklearn.model_selection import learning_curve\n",
    "import matplotlib.pyplot as plt\n",
    "from sklearn.model_selection import ShuffleSplit\n",
    "\n",
    "\n",
    "# learning curve function\n",
    "# http://scikit-learn.org/stable/auto_examples/model_selection/plot_learning_curve.html\n",
    "\n",
    "def plot_learning_curve(\n",
    "        estimator, title, X, y, ylim=None, cv=None,\n",
    "        n_jobs=1, train_sizes=np.linspace(.1, 1.0, 5), verbose=0):\n",
    "\n",
    "    plt.figure()\n",
    "    plt.title(title)\n",
    "    if ylim is not None:\n",
    "        plt.ylim(*ylim)\n",
    "    plt.xlabel(\"Training examples\")\n",
    "    plt.ylabel(\"Score\")\n",
    "    train_sizes, train_scores, test_scores = learning_curve(\n",
    "        estimator, X, y, cv=cv, n_jobs=n_jobs, train_sizes=train_sizes, verbose=verbose)\n",
    "    train_scores_mean = np.mean(train_scores, axis=1)\n",
    "    train_scores_std = np.std(train_scores, axis=1)\n",
    "    test_scores_mean = np.mean(test_scores, axis=1)\n",
    "    test_scores_std = np.std(test_scores, axis=1)\n",
    "    plt.grid()\n",
    "\n",
    "    plt.fill_between(train_sizes, train_scores_mean - train_scores_std,\n",
    "                     train_scores_mean + train_scores_std, alpha=0.1,\n",
    "                     color=\"r\")\n",
    "    plt.fill_between(train_sizes, test_scores_mean - test_scores_std,\n",
    "                     test_scores_mean + test_scores_std, alpha=0.1, color=\"g\")\n",
    "    plt.plot(train_sizes, train_scores_mean, 'o-', color=\"r\",\n",
    "             label=\"Training score\")\n",
    "    plt.plot(train_sizes, test_scores_mean, 'o-', color=\"g\",\n",
    "             label=\"Cross-validation score\")\n",
    "\n",
    "    plt.legend(loc=\"best\")\n",
    "    return plt\n",
    "\n",
    "\n",
    "cv = ShuffleSplit(n_splits=5, test_size=0.2, random_state=0)\n",
    "\n",
    "X = np.array(dataset)\n",
    "y = np.array(labels)\n",
    "\n",
    "print(X[0])\n",
    "\n",
    "plot_learning_curve(model, \"Slot3 baseline learning curve \",\n",
    "                    X, labels, ylim=(0.0, 1.01), cv=cv, n_jobs=1, verbose=4)\n",
    "\n",
    "plt.show()"
   ]
  },
  {
   "cell_type": "code",
   "execution_count": 13,
   "metadata": {},
   "outputs": [
    {
     "name": "stdout",
     "output_type": "stream",
     "text": [
      "F1 is 0.778867924528302 (+/-0.01747296136270222)\n"
     ]
    }
   ],
   "source": [
    "from sklearn.model_selection import train_test_split\n",
    "from sklearn.metrics import f1_score\n",
    "\n",
    "f1 = []\n",
    "\n",
    "for train_index, test_index in cv.split(X):\n",
    "    model.fit(X[train_index, :], y[train_index])\n",
    "    y_pred = model.predict(X[test_index, :])\n",
    "    y_true = y[test_index]\n",
    "    micro_f1 = f1_score(y_true, y_pred, average=\"micro\")\n",
    "    f1.append(micro_f1)\n",
    "\n",
    "print(\"F1 is {} (+/-{})\".format(np.mean(f1), np.std(f1)))"
   ]
  },
  {
   "cell_type": "code",
   "execution_count": 14,
   "metadata": {},
   "outputs": [
    {
     "name": "stdout",
     "output_type": "stream",
     "text": [
      "F1 is 0.77924\n"
     ]
    }
   ],
   "source": [
    "from sklearn.metrics import precision_recall_fscore_support\n",
    "\n",
    "digits = 5\n",
    "f1 = []\n",
    "for train_index, test_index in cv.split(X):\n",
    "    model.fit(X[train_index, :], y[train_index])\n",
    "    y_pred = model.predict(X[test_index, :])\n",
    "    y_true = y[test_index]\n",
    "    p, r, _, _ = precision_recall_fscore_support(y_true, y_pred, average=\"micro\")\n",
    "    p, r = np.round(p, digits + 1),  np.round(r, digits + 1)\n",
    "    _f1 = np.round(2 * p * r / ( p + r), digits)\n",
    "    f1.append(_f1)\n",
    "\n",
    "print(\"F1 is {}\".format(np.median(f1)))"
   ]
  },
  {
   "cell_type": "code",
   "execution_count": null,
   "metadata": {
    "collapsed": true
   },
   "outputs": [],
   "source": []
  }
 ],
 "metadata": {
  "kernelspec": {
   "display_name": "Python 3",
   "language": "python",
   "name": "python3"
  },
  "language_info": {
   "codemirror_mode": {
    "name": "ipython",
    "version": 3
   },
   "file_extension": ".py",
   "mimetype": "text/x-python",
   "name": "python",
   "nbconvert_exporter": "python",
   "pygments_lexer": "ipython3",
   "version": "3.6.5"
  }
 },
 "nbformat": 4,
 "nbformat_minor": 2
}
